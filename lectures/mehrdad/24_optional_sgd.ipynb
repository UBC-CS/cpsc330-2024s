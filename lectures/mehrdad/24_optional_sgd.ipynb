{
 "cells": [
  {
   "cell_type": "markdown",
   "metadata": {
    "slideshow": {
     "slide_type": "slide"
    }
   },
   "source": [
    "![](img/330-banner.png)"
   ]
  },
  {
   "cell_type": "markdown",
   "metadata": {
    "slideshow": {
     "slide_type": "-"
    }
   },
   "source": [
    "# (Optional)<br>Lecture 23: Stochastic Gradient Descent (SGD)\n",
    "\n",
    "UBC 2024 Summer\n",
    "\n",
    "Instructor: Mehrdad Oveisi"
   ]
  },
  {
   "cell_type": "code",
   "execution_count": 1,
   "metadata": {
    "execution": {
     "iopub.execute_input": "2024-06-19T16:07:38.022942Z",
     "iopub.status.busy": "2024-06-19T16:07:38.022534Z",
     "iopub.status.idle": "2024-06-19T16:07:41.162015Z",
     "shell.execute_reply": "2024-06-19T16:07:41.160497Z",
     "shell.execute_reply.started": "2024-06-19T16:07:38.022882Z"
    },
    "slideshow": {
     "slide_type": "skip"
    }
   },
   "outputs": [],
   "source": [
    "import numpy as np\n",
    "import pandas as pd\n",
    "import matplotlib.pyplot as plt\n",
    "\n",
    "from sklearn.linear_model import Ridge, LogisticRegression, SGDClassifier, SGDRegressor\n",
    "from sklearn.dummy import DummyClassifier, DummyRegressor\n",
    "from sklearn.model_selection import train_test_split, GridSearchCV\n",
    "from sklearn.feature_extraction.text import CountVectorizer\n",
    "\n",
    "plt.rcParams['font.size'] = 16"
   ]
  },
  {
   "cell_type": "markdown",
   "metadata": {},
   "source": [
    "## For large datasets: `SGDClassifier` and `SGDRegressor`"
   ]
  },
  {
   "cell_type": "markdown",
   "metadata": {},
   "source": [
    "***Note*** \n",
    "Although we speak of very large datasets here, we do *not* mean what has come to be known as *Big Data*. Some say the realm of Big Data starts with at least *1 terabyte* of data! We do not discuss the requirements for handling such datasets here."
   ]
  },
  {
   "cell_type": "markdown",
   "metadata": {},
   "source": [
    "- Something we haven't discussed in this course is large data sets.\n",
    "- There could be a couple of problems arising from large data sets:\n",
    "  1. The code is too slow.\n",
    "  2. The dataset doesn't fit in memory - we can't even load it with `pd.read_csv`. "
   ]
  },
  {
   "cell_type": "markdown",
   "metadata": {},
   "source": [
    "Simplest strategy: subset your data for experimentation / hyperparameter tuning, then train your final model on the whole dataset (once)."
   ]
  },
  {
   "cell_type": "markdown",
   "metadata": {},
   "source": [
    "- \"SGD\" (stochastic gradient descent) can help with both of these problems.\n",
    "- But we'll focus on using it to solve problem (1).\n",
    "- There is a fancy way to implement `fit` that can be a lot faster for large datasets.\n",
    "  - You can **think of it as quickly finding \"approximately\" the best coefficients** when calling `fit`.\n",
    "  - That is not quite true but it may be a useful way of thinking.\n",
    "  - Much more on this in CPSC 340 and much, much more on this in CPSC 440/540."
   ]
  },
  {
   "cell_type": "markdown",
   "metadata": {},
   "source": [
    "- SGD can be used in many contexts.\n",
    "- In sklearn, it's built in as follows:"
   ]
  },
  {
   "cell_type": "code",
   "execution_count": 2,
   "metadata": {
    "execution": {
     "iopub.execute_input": "2024-06-19T16:07:41.166393Z",
     "iopub.status.busy": "2024-06-19T16:07:41.165382Z",
     "iopub.status.idle": "2024-06-19T16:07:41.177150Z",
     "shell.execute_reply": "2024-06-19T16:07:41.173574Z",
     "shell.execute_reply.started": "2024-06-19T16:07:41.166356Z"
    }
   },
   "outputs": [],
   "source": [
    "from sklearn.linear_model import SGDClassifier, SGDRegressor"
   ]
  },
  {
   "cell_type": "markdown",
   "metadata": {},
   "source": [
    "- `SGDRegressor` is basically equivalent to `Ridge`.\n",
    "- `SGDRegressor(loss='huber')` is basically equivalent to `HuberRegressor`.\n",
    "- `SGDClassifier(loss='log_loss')` is basically equivalent to `LogisticRegression`, except the parameter is called `alpha` instead of `C` (like `Ridge`).\n",
    "- With other settings they are equivalent to other models, but this is good enough."
   ]
  },
  {
   "cell_type": "markdown",
   "metadata": {},
   "source": [
    "- For **regular sized** datasets, use the **original functions**, as these ones can be a bit more finicky. "
   ]
  },
  {
   "cell_type": "markdown",
   "metadata": {},
   "source": [
    "Let's load the [Sentiment140 dataset](http://help.sentiment140.com/home), which contains tweets labeled with sentiment associated with a brand, product, or topic. It is a large dataset. You can download the data from [here](https://www.kaggle.com/ferno2/training1600000processednoemoticoncsv)."
   ]
  },
  {
   "cell_type": "code",
   "execution_count": 3,
   "metadata": {
    "execution": {
     "iopub.execute_input": "2024-06-19T16:07:41.180219Z",
     "iopub.status.busy": "2024-06-19T16:07:41.179664Z",
     "iopub.status.idle": "2024-06-19T16:07:51.340584Z",
     "shell.execute_reply": "2024-06-19T16:07:51.335937Z",
     "shell.execute_reply.started": "2024-06-19T16:07:41.180168Z"
    },
    "tags": []
   },
   "outputs": [],
   "source": [
    "tweets_df = pd.read_csv('../data/training.1600000.processed.noemoticon.csv', \n",
    "                        encoding = \"ISO-8859-1\",\n",
    "                        names=[\"label\", \"id\", \"date\", \"no_query\", \"name\", \"text\"])\n",
    "tweets_df['label'] = tweets_df['label'].map({0: 'neg', 4: 'pos'})\n",
    "tweets_df = tweets_df[tweets_df['label'].str.startswith(('pos','neg'))]"
   ]
  },
  {
   "cell_type": "code",
   "execution_count": 4,
   "metadata": {
    "execution": {
     "iopub.execute_input": "2024-06-19T16:07:51.345222Z",
     "iopub.status.busy": "2024-06-19T16:07:51.343563Z",
     "iopub.status.idle": "2024-06-19T16:07:53.154544Z",
     "shell.execute_reply": "2024-06-19T16:07:53.151880Z",
     "shell.execute_reply.started": "2024-06-19T16:07:51.345171Z"
    }
   },
   "outputs": [],
   "source": [
    "tweets_df_train, tweets_df_test = train_test_split(tweets_df)"
   ]
  },
  {
   "cell_type": "code",
   "execution_count": 5,
   "metadata": {
    "execution": {
     "iopub.execute_input": "2024-06-19T16:07:53.158346Z",
     "iopub.status.busy": "2024-06-19T16:07:53.156590Z",
     "iopub.status.idle": "2024-06-19T16:07:53.188711Z",
     "shell.execute_reply": "2024-06-19T16:07:53.187229Z",
     "shell.execute_reply.started": "2024-06-19T16:07:53.158306Z"
    }
   },
   "outputs": [
    {
     "data": {
      "text/html": [
       "<div>\n",
       "<style scoped>\n",
       "    .dataframe tbody tr th:only-of-type {\n",
       "        vertical-align: middle;\n",
       "    }\n",
       "\n",
       "    .dataframe tbody tr th {\n",
       "        vertical-align: top;\n",
       "    }\n",
       "\n",
       "    .dataframe thead th {\n",
       "        text-align: right;\n",
       "    }\n",
       "</style>\n",
       "<table border=\"1\" class=\"dataframe\">\n",
       "  <thead>\n",
       "    <tr style=\"text-align: right;\">\n",
       "      <th></th>\n",
       "      <th>label</th>\n",
       "      <th>id</th>\n",
       "      <th>date</th>\n",
       "      <th>no_query</th>\n",
       "      <th>name</th>\n",
       "      <th>text</th>\n",
       "    </tr>\n",
       "  </thead>\n",
       "  <tbody>\n",
       "    <tr>\n",
       "      <th>454140</th>\n",
       "      <td>neg</td>\n",
       "      <td>2070518086</td>\n",
       "      <td>Sun Jun 07 17:50:14 PDT 2009</td>\n",
       "      <td>NO_QUERY</td>\n",
       "      <td>DylanCullen</td>\n",
       "      <td>@WerewolfLeah @WereWolf_Embry *runs and hugs y...</td>\n",
       "    </tr>\n",
       "    <tr>\n",
       "      <th>383354</th>\n",
       "      <td>neg</td>\n",
       "      <td>2053179608</td>\n",
       "      <td>Sat Jun 06 03:35:10 PDT 2009</td>\n",
       "      <td>NO_QUERY</td>\n",
       "      <td>davidelrizzo</td>\n",
       "      <td>@maddisondesigns - let me know if Terminator i...</td>\n",
       "    </tr>\n",
       "    <tr>\n",
       "      <th>492672</th>\n",
       "      <td>neg</td>\n",
       "      <td>2184354708</td>\n",
       "      <td>Mon Jun 15 15:47:17 PDT 2009</td>\n",
       "      <td>NO_QUERY</td>\n",
       "      <td>brittblevins</td>\n",
       "      <td>hmm nothig to do!  At this point just messing ...</td>\n",
       "    </tr>\n",
       "    <tr>\n",
       "      <th>1129635</th>\n",
       "      <td>pos</td>\n",
       "      <td>1975566665</td>\n",
       "      <td>Sat May 30 15:25:51 PDT 2009</td>\n",
       "      <td>NO_QUERY</td>\n",
       "      <td>vkmenno</td>\n",
       "      <td>@fiederels that's my girl!</td>\n",
       "    </tr>\n",
       "    <tr>\n",
       "      <th>722700</th>\n",
       "      <td>neg</td>\n",
       "      <td>2261567636</td>\n",
       "      <td>Sat Jun 20 20:59:44 PDT 2009</td>\n",
       "      <td>NO_QUERY</td>\n",
       "      <td>alwayswithjoe</td>\n",
       "      <td>I go to sleep, because i'm veeeeeeeeeeeeery ve...</td>\n",
       "    </tr>\n",
       "  </tbody>\n",
       "</table>\n",
       "</div>"
      ],
      "text/plain": [
       "        label          id                          date  no_query  \\\n",
       "454140    neg  2070518086  Sun Jun 07 17:50:14 PDT 2009  NO_QUERY   \n",
       "383354    neg  2053179608  Sat Jun 06 03:35:10 PDT 2009  NO_QUERY   \n",
       "492672    neg  2184354708  Mon Jun 15 15:47:17 PDT 2009  NO_QUERY   \n",
       "1129635   pos  1975566665  Sat May 30 15:25:51 PDT 2009  NO_QUERY   \n",
       "722700    neg  2261567636  Sat Jun 20 20:59:44 PDT 2009  NO_QUERY   \n",
       "\n",
       "                  name                                               text  \n",
       "454140     DylanCullen  @WerewolfLeah @WereWolf_Embry *runs and hugs y...  \n",
       "383354    davidelrizzo  @maddisondesigns - let me know if Terminator i...  \n",
       "492672    brittblevins  hmm nothig to do!  At this point just messing ...  \n",
       "1129635        vkmenno                        @fiederels that's my girl!   \n",
       "722700   alwayswithjoe  I go to sleep, because i'm veeeeeeeeeeeeery ve...  "
      ]
     },
     "execution_count": 5,
     "metadata": {},
     "output_type": "execute_result"
    }
   ],
   "source": [
    "tweets_df_train.head()"
   ]
  },
  {
   "cell_type": "code",
   "execution_count": 6,
   "metadata": {
    "execution": {
     "iopub.execute_input": "2024-06-19T16:07:53.191309Z",
     "iopub.status.busy": "2024-06-19T16:07:53.190722Z",
     "iopub.status.idle": "2024-06-19T16:07:53.202409Z",
     "shell.execute_reply": "2024-06-19T16:07:53.200541Z",
     "shell.execute_reply.started": "2024-06-19T16:07:53.191263Z"
    }
   },
   "outputs": [
    {
     "data": {
      "text/plain": [
       "(1200000, 6)"
      ]
     },
     "execution_count": 6,
     "metadata": {},
     "output_type": "execute_result"
    }
   ],
   "source": [
    "tweets_df_train.shape"
   ]
  },
  {
   "cell_type": "markdown",
   "metadata": {},
   "source": [
    "Holy cow!"
   ]
  },
  {
   "cell_type": "code",
   "execution_count": 7,
   "metadata": {
    "execution": {
     "iopub.execute_input": "2024-06-19T16:07:53.209260Z",
     "iopub.status.busy": "2024-06-19T16:07:53.207792Z",
     "iopub.status.idle": "2024-06-19T16:08:22.881116Z",
     "shell.execute_reply": "2024-06-19T16:08:22.879773Z",
     "shell.execute_reply.started": "2024-06-19T16:07:53.209203Z"
    }
   },
   "outputs": [],
   "source": [
    "vec = CountVectorizer(stop_words='english')\n",
    "\n",
    "X_train = vec.fit_transform(tweets_df_train['text']) \n",
    "y_train = tweets_df_train['label']\n",
    "\n",
    "X_test = vec.transform(tweets_df_test['text']) \n",
    "y_test = tweets_df_test['label']"
   ]
  },
  {
   "cell_type": "code",
   "execution_count": 8,
   "metadata": {
    "execution": {
     "iopub.execute_input": "2024-06-19T16:08:22.882226Z",
     "iopub.status.busy": "2024-06-19T16:08:22.881963Z",
     "iopub.status.idle": "2024-06-19T16:08:22.889825Z",
     "shell.execute_reply": "2024-06-19T16:08:22.888159Z",
     "shell.execute_reply.started": "2024-06-19T16:08:22.882202Z"
    }
   },
   "outputs": [
    {
     "data": {
      "text/plain": [
       "(1200000, 563728)"
      ]
     },
     "execution_count": 8,
     "metadata": {},
     "output_type": "execute_result"
    }
   ],
   "source": [
    "X_train.shape"
   ]
  },
  {
   "cell_type": "code",
   "execution_count": 9,
   "metadata": {
    "execution": {
     "iopub.execute_input": "2024-06-19T16:08:22.894693Z",
     "iopub.status.busy": "2024-06-19T16:08:22.891991Z",
     "iopub.status.idle": "2024-06-19T16:08:22.904061Z",
     "shell.execute_reply": "2024-06-19T16:08:22.902401Z",
     "shell.execute_reply.started": "2024-06-19T16:08:22.894521Z"
    }
   },
   "outputs": [
    {
     "data": {
      "text/plain": [
       "scipy.sparse._csr.csr_matrix"
      ]
     },
     "execution_count": 9,
     "metadata": {},
     "output_type": "execute_result"
    }
   ],
   "source": [
    "type(X_train)"
   ]
  },
  {
   "cell_type": "markdown",
   "metadata": {},
   "source": [
    "Here is the **fraction of elements that are nonzero**, showing that having a sparse matrix really helps!!"
   ]
  },
  {
   "cell_type": "code",
   "execution_count": 10,
   "metadata": {
    "execution": {
     "iopub.execute_input": "2024-06-19T16:08:22.906107Z",
     "iopub.status.busy": "2024-06-19T16:08:22.905739Z",
     "iopub.status.idle": "2024-06-19T16:08:22.917807Z",
     "shell.execute_reply": "2024-06-19T16:08:22.915159Z",
     "shell.execute_reply.started": "2024-06-19T16:08:22.906080Z"
    },
    "tags": []
   },
   "outputs": [
    {
     "data": {
      "text/plain": [
       "1.23448823427847e-05"
      ]
     },
     "execution_count": 10,
     "metadata": {},
     "output_type": "execute_result"
    }
   ],
   "source": [
    "X_train.nnz / np.prod(X_train.shape)"
   ]
  },
  {
   "cell_type": "markdown",
   "metadata": {},
   "source": [
    "Now let's train a classifier. I'll use `%time` instead of `%timeit` because I want to keep the output, and it gets lost with `%timeit`."
   ]
  },
  {
   "cell_type": "code",
   "execution_count": 11,
   "metadata": {
    "execution": {
     "iopub.execute_input": "2024-06-19T16:08:22.921901Z",
     "iopub.status.busy": "2024-06-19T16:08:22.920660Z",
     "iopub.status.idle": "2024-06-19T16:08:26.801779Z",
     "shell.execute_reply": "2024-06-19T16:08:26.800281Z",
     "shell.execute_reply.started": "2024-06-19T16:08:22.921852Z"
    }
   },
   "outputs": [
    {
     "data": {
      "text/plain": [
       "0.5000808333333333"
      ]
     },
     "execution_count": 11,
     "metadata": {},
     "output_type": "execute_result"
    }
   ],
   "source": [
    "dc = DummyClassifier()\n",
    "dc.fit(X_train, y_train)\n",
    "dc.score(X_train, y_train)"
   ]
  },
  {
   "cell_type": "code",
   "execution_count": 12,
   "metadata": {
    "execution": {
     "iopub.execute_input": "2024-06-19T16:08:26.803602Z",
     "iopub.status.busy": "2024-06-19T16:08:26.803152Z",
     "iopub.status.idle": "2024-06-19T16:08:26.808466Z",
     "shell.execute_reply": "2024-06-19T16:08:26.807245Z",
     "shell.execute_reply.started": "2024-06-19T16:08:26.803547Z"
    }
   },
   "outputs": [],
   "source": [
    "lr = LogisticRegression()"
   ]
  },
  {
   "cell_type": "code",
   "execution_count": 13,
   "metadata": {
    "execution": {
     "iopub.execute_input": "2024-06-19T16:08:26.811561Z",
     "iopub.status.busy": "2024-06-19T16:08:26.810476Z",
     "iopub.status.idle": "2024-06-19T16:09:35.895175Z",
     "shell.execute_reply": "2024-06-19T16:09:35.892149Z",
     "shell.execute_reply.started": "2024-06-19T16:08:26.811510Z"
    }
   },
   "outputs": [
    {
     "name": "stdout",
     "output_type": "stream",
     "text": [
      "CPU times: user 4min 2s, sys: 2min 57s, total: 6min 59s\n",
      "Wall time: 1min 9s\n"
     ]
    },
    {
     "name": "stderr",
     "output_type": "stream",
     "text": [
      "/home/mehrdad/miniconda3/envs/cpsc330/lib/python3.10/site-packages/sklearn/linear_model/_logistic.py:460: ConvergenceWarning: lbfgs failed to converge (status=1):\n",
      "STOP: TOTAL NO. of ITERATIONS REACHED LIMIT.\n",
      "\n",
      "Increase the number of iterations (max_iter) or scale the data as shown in:\n",
      "    https://scikit-learn.org/stable/modules/preprocessing.html\n",
      "Please also refer to the documentation for alternative solver options:\n",
      "    https://scikit-learn.org/stable/modules/linear_model.html#logistic-regression\n",
      "  n_iter_i = _check_optimize_result(\n"
     ]
    }
   ],
   "source": [
    "%time lr.fit(X_train, y_train);"
   ]
  },
  {
   "cell_type": "markdown",
   "metadata": {},
   "source": [
    "In `LogisticRegression`, the hyperparameter `max_iter` is set to 100 by default. We could increase it to get rid of this warning, but it would then take even longer to run `fit()`."
   ]
  },
  {
   "cell_type": "code",
   "execution_count": 14,
   "metadata": {
    "execution": {
     "iopub.execute_input": "2024-06-19T16:09:35.900658Z",
     "iopub.status.busy": "2024-06-19T16:09:35.899065Z",
     "iopub.status.idle": "2024-06-19T16:09:39.498249Z",
     "shell.execute_reply": "2024-06-19T16:09:39.496533Z",
     "shell.execute_reply.started": "2024-06-19T16:09:35.900613Z"
    }
   },
   "outputs": [
    {
     "data": {
      "text/plain": [
       "0.808785"
      ]
     },
     "execution_count": 14,
     "metadata": {},
     "output_type": "execute_result"
    }
   ],
   "source": [
    "lr.score(X_train, y_train)"
   ]
  },
  {
   "cell_type": "code",
   "execution_count": 15,
   "metadata": {
    "execution": {
     "iopub.execute_input": "2024-06-19T16:09:39.500438Z",
     "iopub.status.busy": "2024-06-19T16:09:39.499943Z",
     "iopub.status.idle": "2024-06-19T16:09:40.508894Z",
     "shell.execute_reply": "2024-06-19T16:09:40.507396Z",
     "shell.execute_reply.started": "2024-06-19T16:09:39.500391Z"
    }
   },
   "outputs": [
    {
     "data": {
      "text/plain": [
       "0.777515"
      ]
     },
     "execution_count": 15,
     "metadata": {},
     "output_type": "execute_result"
    }
   ],
   "source": [
    "lr.score(X_test, y_test)"
   ]
  },
  {
   "cell_type": "code",
   "execution_count": 16,
   "metadata": {
    "execution": {
     "iopub.execute_input": "2024-06-19T16:09:40.511560Z",
     "iopub.status.busy": "2024-06-19T16:09:40.511041Z",
     "iopub.status.idle": "2024-06-19T16:09:40.527642Z",
     "shell.execute_reply": "2024-06-19T16:09:40.523575Z",
     "shell.execute_reply.started": "2024-06-19T16:09:40.511513Z"
    }
   },
   "outputs": [
    {
     "data": {
      "text/plain": [
       "array([100], dtype=int32)"
      ]
     },
     "execution_count": 16,
     "metadata": {},
     "output_type": "execute_result"
    }
   ],
   "source": [
    "lr.n_iter_"
   ]
  },
  {
   "cell_type": "markdown",
   "metadata": {},
   "source": [
    "Now, let's try to use `SGDClassifier` on the same data:"
   ]
  },
  {
   "cell_type": "code",
   "execution_count": 17,
   "metadata": {
    "execution": {
     "iopub.execute_input": "2024-06-19T16:09:40.531833Z",
     "iopub.status.busy": "2024-06-19T16:09:40.531243Z",
     "iopub.status.idle": "2024-06-19T16:09:40.540486Z",
     "shell.execute_reply": "2024-06-19T16:09:40.538927Z",
     "shell.execute_reply.started": "2024-06-19T16:09:40.531781Z"
    },
    "tags": []
   },
   "outputs": [],
   "source": [
    "lr_sgd = SGDClassifier(loss=\"log_loss\")"
   ]
  },
  {
   "cell_type": "code",
   "execution_count": 18,
   "metadata": {
    "execution": {
     "iopub.execute_input": "2024-06-19T16:09:40.543759Z",
     "iopub.status.busy": "2024-06-19T16:09:40.542341Z",
     "iopub.status.idle": "2024-06-19T16:09:45.786767Z",
     "shell.execute_reply": "2024-06-19T16:09:45.785445Z",
     "shell.execute_reply.started": "2024-06-19T16:09:40.543702Z"
    },
    "tags": []
   },
   "outputs": [
    {
     "name": "stdout",
     "output_type": "stream",
     "text": [
      "CPU times: user 5.73 s, sys: 451 ms, total: 6.18 s\n",
      "Wall time: 5.23 s\n"
     ]
    }
   ],
   "source": [
    "%time lr_sgd.fit(X_train, y_train);"
   ]
  },
  {
   "cell_type": "code",
   "execution_count": 19,
   "metadata": {
    "execution": {
     "iopub.execute_input": "2024-06-19T16:09:45.790658Z",
     "iopub.status.busy": "2024-06-19T16:09:45.789308Z",
     "iopub.status.idle": "2024-06-19T16:09:45.797653Z",
     "shell.execute_reply": "2024-06-19T16:09:45.796464Z",
     "shell.execute_reply.started": "2024-06-19T16:09:45.790628Z"
    },
    "tags": []
   },
   "outputs": [
    {
     "data": {
      "text/plain": [
       "7"
      ]
     },
     "execution_count": 19,
     "metadata": {},
     "output_type": "execute_result"
    }
   ],
   "source": [
    "lr_sgd.n_iter_"
   ]
  },
  {
   "cell_type": "code",
   "execution_count": 20,
   "metadata": {
    "execution": {
     "iopub.execute_input": "2024-06-19T16:09:45.798780Z",
     "iopub.status.busy": "2024-06-19T16:09:45.798513Z",
     "iopub.status.idle": "2024-06-19T16:09:49.437806Z",
     "shell.execute_reply": "2024-06-19T16:09:49.436344Z",
     "shell.execute_reply.started": "2024-06-19T16:09:45.798757Z"
    },
    "tags": []
   },
   "outputs": [
    {
     "data": {
      "text/plain": [
       "0.7694141666666666"
      ]
     },
     "execution_count": 20,
     "metadata": {},
     "output_type": "execute_result"
    }
   ],
   "source": [
    "lr_sgd.score(X_train, y_train)"
   ]
  },
  {
   "cell_type": "code",
   "execution_count": 21,
   "metadata": {
    "execution": {
     "iopub.execute_input": "2024-06-19T16:09:49.440865Z",
     "iopub.status.busy": "2024-06-19T16:09:49.440268Z",
     "iopub.status.idle": "2024-06-19T16:09:50.559926Z",
     "shell.execute_reply": "2024-06-19T16:09:50.558840Z",
     "shell.execute_reply.started": "2024-06-19T16:09:49.440827Z"
    },
    "tags": []
   },
   "outputs": [
    {
     "data": {
      "text/plain": [
       "0.7654175"
      ]
     },
     "execution_count": 21,
     "metadata": {},
     "output_type": "execute_result"
    }
   ],
   "source": [
    "lr_sgd.score(X_test, y_test)"
   ]
  },
  {
   "cell_type": "markdown",
   "metadata": {},
   "source": [
    "- `SGDClassifier` was **many folds faster** than `LogisticRegression`, but the accuracy is slightly lower.\n",
    "- In fact, we can control the speed vs. _train_ accuracy tradeoff in both cases using the hyperparameters.\n",
    "  - The main ones are `max_iter` (higher is slower) and/or `tol` (lower is slower)\n",
    "  - (This is the same for both `LogisticRegression` and `SGDClassifier`)\n",
    "  - This is analogous to `n_iter` in `RandomizedSearchCV` !\n",
    "- In general, `LogisticRegression` will get slightly higher _train_ accuracy (may or may not correspond to better validation/test)\n",
    "- But in some cases your **dataset is so big** that `LogisticRegression` is **not feasible**, and then `SGDClassifier` can save the day."
   ]
  },
  {
   "cell_type": "code",
   "execution_count": 22,
   "metadata": {
    "execution": {
     "iopub.execute_input": "2024-06-19T16:09:50.563914Z",
     "iopub.status.busy": "2024-06-19T16:09:50.563561Z",
     "iopub.status.idle": "2024-06-19T16:12:04.141727Z",
     "shell.execute_reply": "2024-06-19T16:12:04.135643Z",
     "shell.execute_reply.started": "2024-06-19T16:09:50.563888Z"
    },
    "tags": []
   },
   "outputs": [
    {
     "name": "stdout",
     "output_type": "stream",
     "text": [
      "Fitting 2 folds for each of 4 candidates, totalling 8 fits\n"
     ]
    },
    {
     "name": "stderr",
     "output_type": "stream",
     "text": [
      "/home/mehrdad/miniconda3/envs/cpsc330/lib/python3.10/site-packages/sklearn/linear_model/_logistic.py:460: ConvergenceWarning: lbfgs failed to converge (status=1):\n",
      "STOP: TOTAL NO. of ITERATIONS REACHED LIMIT.\n",
      "\n",
      "Increase the number of iterations (max_iter) or scale the data as shown in:\n",
      "    https://scikit-learn.org/stable/modules/preprocessing.html\n",
      "Please also refer to the documentation for alternative solver options:\n",
      "    https://scikit-learn.org/stable/modules/linear_model.html#logistic-regression\n",
      "  n_iter_i = _check_optimize_result(\n",
      "/home/mehrdad/miniconda3/envs/cpsc330/lib/python3.10/site-packages/sklearn/linear_model/_logistic.py:460: ConvergenceWarning: lbfgs failed to converge (status=1):\n",
      "STOP: TOTAL NO. of ITERATIONS REACHED LIMIT.\n",
      "\n",
      "Increase the number of iterations (max_iter) or scale the data as shown in:\n",
      "    https://scikit-learn.org/stable/modules/preprocessing.html\n",
      "Please also refer to the documentation for alternative solver options:\n",
      "    https://scikit-learn.org/stable/modules/linear_model.html#logistic-regression\n",
      "  n_iter_i = _check_optimize_result(\n",
      "/home/mehrdad/miniconda3/envs/cpsc330/lib/python3.10/site-packages/sklearn/linear_model/_logistic.py:460: ConvergenceWarning: lbfgs failed to converge (status=1):\n",
      "STOP: TOTAL NO. of ITERATIONS REACHED LIMIT.\n",
      "\n",
      "Increase the number of iterations (max_iter) or scale the data as shown in:\n",
      "    https://scikit-learn.org/stable/modules/preprocessing.html\n",
      "Please also refer to the documentation for alternative solver options:\n",
      "    https://scikit-learn.org/stable/modules/linear_model.html#logistic-regression\n",
      "  n_iter_i = _check_optimize_result(\n",
      "/home/mehrdad/miniconda3/envs/cpsc330/lib/python3.10/site-packages/sklearn/linear_model/_logistic.py:460: ConvergenceWarning: lbfgs failed to converge (status=1):\n",
      "STOP: TOTAL NO. of ITERATIONS REACHED LIMIT.\n",
      "\n",
      "Increase the number of iterations (max_iter) or scale the data as shown in:\n",
      "    https://scikit-learn.org/stable/modules/preprocessing.html\n",
      "Please also refer to the documentation for alternative solver options:\n",
      "    https://scikit-learn.org/stable/modules/linear_model.html#logistic-regression\n",
      "  n_iter_i = _check_optimize_result(\n",
      "/home/mehrdad/miniconda3/envs/cpsc330/lib/python3.10/site-packages/sklearn/linear_model/_logistic.py:460: ConvergenceWarning: lbfgs failed to converge (status=1):\n",
      "STOP: TOTAL NO. of ITERATIONS REACHED LIMIT.\n",
      "\n",
      "Increase the number of iterations (max_iter) or scale the data as shown in:\n",
      "    https://scikit-learn.org/stable/modules/preprocessing.html\n",
      "Please also refer to the documentation for alternative solver options:\n",
      "    https://scikit-learn.org/stable/modules/linear_model.html#logistic-regression\n",
      "  n_iter_i = _check_optimize_result(\n",
      "/home/mehrdad/miniconda3/envs/cpsc330/lib/python3.10/site-packages/sklearn/linear_model/_logistic.py:460: ConvergenceWarning: lbfgs failed to converge (status=1):\n",
      "STOP: TOTAL NO. of ITERATIONS REACHED LIMIT.\n",
      "\n",
      "Increase the number of iterations (max_iter) or scale the data as shown in:\n",
      "    https://scikit-learn.org/stable/modules/preprocessing.html\n",
      "Please also refer to the documentation for alternative solver options:\n",
      "    https://scikit-learn.org/stable/modules/linear_model.html#logistic-regression\n",
      "  n_iter_i = _check_optimize_result(\n",
      "/home/mehrdad/miniconda3/envs/cpsc330/lib/python3.10/site-packages/sklearn/linear_model/_logistic.py:460: ConvergenceWarning: lbfgs failed to converge (status=1):\n",
      "STOP: TOTAL NO. of ITERATIONS REACHED LIMIT.\n",
      "\n",
      "Increase the number of iterations (max_iter) or scale the data as shown in:\n",
      "    https://scikit-learn.org/stable/modules/preprocessing.html\n",
      "Please also refer to the documentation for alternative solver options:\n",
      "    https://scikit-learn.org/stable/modules/linear_model.html#logistic-regression\n",
      "  n_iter_i = _check_optimize_result(\n",
      "/home/mehrdad/miniconda3/envs/cpsc330/lib/python3.10/site-packages/sklearn/linear_model/_logistic.py:460: ConvergenceWarning: lbfgs failed to converge (status=1):\n",
      "STOP: TOTAL NO. of ITERATIONS REACHED LIMIT.\n",
      "\n",
      "Increase the number of iterations (max_iter) or scale the data as shown in:\n",
      "    https://scikit-learn.org/stable/modules/preprocessing.html\n",
      "Please also refer to the documentation for alternative solver options:\n",
      "    https://scikit-learn.org/stable/modules/linear_model.html#logistic-regression\n",
      "  n_iter_i = _check_optimize_result(\n",
      "/home/mehrdad/miniconda3/envs/cpsc330/lib/python3.10/site-packages/sklearn/linear_model/_logistic.py:460: ConvergenceWarning: lbfgs failed to converge (status=1):\n",
      "STOP: TOTAL NO. of ITERATIONS REACHED LIMIT.\n",
      "\n",
      "Increase the number of iterations (max_iter) or scale the data as shown in:\n",
      "    https://scikit-learn.org/stable/modules/preprocessing.html\n",
      "Please also refer to the documentation for alternative solver options:\n",
      "    https://scikit-learn.org/stable/modules/linear_model.html#logistic-regression\n",
      "  n_iter_i = _check_optimize_result(\n"
     ]
    }
   ],
   "source": [
    "# from https://scikit-learn.org/stable/auto_examples/linear_model/plot_sgd_early_stopping.html#sphx-glr-auto-examples-linear-model-plot-sgd-early-stopping-py\n",
    "\n",
    "# from sklearn.utils._testing import ignore_warnings\n",
    "# from sklearn.exceptions import ConvergenceWarning\n",
    "\n",
    "# @ignore_warnings(category=ConvergenceWarning)\n",
    "def fit_grid_search_lr(iters):\n",
    "    grid_search_lr = GridSearchCV(\n",
    "        LogisticRegression(), \n",
    "        {\"max_iter\" : iters}, return_train_score=True, verbose=2, cv=2, n_jobs=-1)\n",
    "    # n_jobs=-1 might mess up the timing a bit but otherwise it takes too long\n",
    "    grid_search_lr.fit(X_train, y_train)\n",
    "    return grid_search_lr\n",
    "\n",
    "grid_search_lr = fit_grid_search_lr([3, 10, 30, 100])"
   ]
  },
  {
   "cell_type": "code",
   "execution_count": 23,
   "metadata": {
    "execution": {
     "iopub.execute_input": "2024-06-19T16:12:04.147435Z",
     "iopub.status.busy": "2024-06-19T16:12:04.146409Z",
     "iopub.status.idle": "2024-06-19T16:12:04.192381Z",
     "shell.execute_reply": "2024-06-19T16:12:04.190297Z",
     "shell.execute_reply.started": "2024-06-19T16:12:04.147357Z"
    },
    "tags": []
   },
   "outputs": [
    {
     "data": {
      "text/html": [
       "<div>\n",
       "<style scoped>\n",
       "    .dataframe tbody tr th:only-of-type {\n",
       "        vertical-align: middle;\n",
       "    }\n",
       "\n",
       "    .dataframe tbody tr th {\n",
       "        vertical-align: top;\n",
       "    }\n",
       "\n",
       "    .dataframe thead th {\n",
       "        text-align: right;\n",
       "    }\n",
       "</style>\n",
       "<table border=\"1\" class=\"dataframe\">\n",
       "  <thead>\n",
       "    <tr style=\"text-align: right;\">\n",
       "      <th></th>\n",
       "      <th>mean_fit_time</th>\n",
       "      <th>std_fit_time</th>\n",
       "      <th>mean_score_time</th>\n",
       "      <th>std_score_time</th>\n",
       "      <th>param_max_iter</th>\n",
       "      <th>params</th>\n",
       "      <th>split0_test_score</th>\n",
       "      <th>split1_test_score</th>\n",
       "      <th>mean_test_score</th>\n",
       "      <th>std_test_score</th>\n",
       "      <th>rank_test_score</th>\n",
       "      <th>split0_train_score</th>\n",
       "      <th>split1_train_score</th>\n",
       "      <th>mean_train_score</th>\n",
       "      <th>std_train_score</th>\n",
       "    </tr>\n",
       "  </thead>\n",
       "  <tbody>\n",
       "    <tr>\n",
       "      <th>0</th>\n",
       "      <td>13.434878</td>\n",
       "      <td>0.966732</td>\n",
       "      <td>6.315260</td>\n",
       "      <td>0.697648</td>\n",
       "      <td>3</td>\n",
       "      <td>{'max_iter': 3}</td>\n",
       "      <td>0.680562</td>\n",
       "      <td>0.677720</td>\n",
       "      <td>0.679141</td>\n",
       "      <td>0.001421</td>\n",
       "      <td>4</td>\n",
       "      <td>0.680717</td>\n",
       "      <td>0.678533</td>\n",
       "      <td>0.679625</td>\n",
       "      <td>0.001092</td>\n",
       "    </tr>\n",
       "    <tr>\n",
       "      <th>1</th>\n",
       "      <td>18.073809</td>\n",
       "      <td>5.166639</td>\n",
       "      <td>6.377006</td>\n",
       "      <td>0.754571</td>\n",
       "      <td>10</td>\n",
       "      <td>{'max_iter': 10}</td>\n",
       "      <td>0.752637</td>\n",
       "      <td>0.752838</td>\n",
       "      <td>0.752738</td>\n",
       "      <td>0.000101</td>\n",
       "      <td>3</td>\n",
       "      <td>0.755217</td>\n",
       "      <td>0.755710</td>\n",
       "      <td>0.755463</td>\n",
       "      <td>0.000247</td>\n",
       "    </tr>\n",
       "    <tr>\n",
       "      <th>2</th>\n",
       "      <td>29.596003</td>\n",
       "      <td>1.123890</td>\n",
       "      <td>5.238160</td>\n",
       "      <td>0.606483</td>\n",
       "      <td>30</td>\n",
       "      <td>{'max_iter': 30}</td>\n",
       "      <td>0.770370</td>\n",
       "      <td>0.770185</td>\n",
       "      <td>0.770277</td>\n",
       "      <td>0.000092</td>\n",
       "      <td>2</td>\n",
       "      <td>0.782932</td>\n",
       "      <td>0.783305</td>\n",
       "      <td>0.783118</td>\n",
       "      <td>0.000187</td>\n",
       "    </tr>\n",
       "    <tr>\n",
       "      <th>3</th>\n",
       "      <td>51.485675</td>\n",
       "      <td>0.774465</td>\n",
       "      <td>2.334501</td>\n",
       "      <td>0.313812</td>\n",
       "      <td>100</td>\n",
       "      <td>{'max_iter': 100}</td>\n",
       "      <td>0.772608</td>\n",
       "      <td>0.771058</td>\n",
       "      <td>0.771833</td>\n",
       "      <td>0.000775</td>\n",
       "      <td>1</td>\n",
       "      <td>0.829998</td>\n",
       "      <td>0.828507</td>\n",
       "      <td>0.829252</td>\n",
       "      <td>0.000746</td>\n",
       "    </tr>\n",
       "  </tbody>\n",
       "</table>\n",
       "</div>"
      ],
      "text/plain": [
       "   mean_fit_time  std_fit_time  mean_score_time  std_score_time  \\\n",
       "0      13.434878      0.966732         6.315260        0.697648   \n",
       "1      18.073809      5.166639         6.377006        0.754571   \n",
       "2      29.596003      1.123890         5.238160        0.606483   \n",
       "3      51.485675      0.774465         2.334501        0.313812   \n",
       "\n",
       "  param_max_iter             params  split0_test_score  split1_test_score  \\\n",
       "0              3    {'max_iter': 3}           0.680562           0.677720   \n",
       "1             10   {'max_iter': 10}           0.752637           0.752838   \n",
       "2             30   {'max_iter': 30}           0.770370           0.770185   \n",
       "3            100  {'max_iter': 100}           0.772608           0.771058   \n",
       "\n",
       "   mean_test_score  std_test_score  rank_test_score  split0_train_score  \\\n",
       "0         0.679141        0.001421                4            0.680717   \n",
       "1         0.752738        0.000101                3            0.755217   \n",
       "2         0.770277        0.000092                2            0.782932   \n",
       "3         0.771833        0.000775                1            0.829998   \n",
       "\n",
       "   split1_train_score  mean_train_score  std_train_score  \n",
       "0            0.678533          0.679625         0.001092  \n",
       "1            0.755710          0.755463         0.000247  \n",
       "2            0.783305          0.783118         0.000187  \n",
       "3            0.828507          0.829252         0.000746  "
      ]
     },
     "execution_count": 23,
     "metadata": {},
     "output_type": "execute_result"
    }
   ],
   "source": [
    "results_lr = pd.DataFrame(grid_search_lr.cv_results_)\n",
    "results_lr"
   ]
  },
  {
   "cell_type": "code",
   "execution_count": 24,
   "metadata": {
    "execution": {
     "iopub.execute_input": "2024-06-19T16:12:04.198573Z",
     "iopub.status.busy": "2024-06-19T16:12:04.195313Z",
     "iopub.status.idle": "2024-06-19T16:13:11.049720Z",
     "shell.execute_reply": "2024-06-19T16:13:11.040737Z",
     "shell.execute_reply.started": "2024-06-19T16:12:04.198505Z"
    },
    "tags": []
   },
   "outputs": [
    {
     "name": "stdout",
     "output_type": "stream",
     "text": [
      "Fitting 2 folds for each of 3 candidates, totalling 6 fits\n"
     ]
    }
   ],
   "source": [
    "grid_search_sgd = GridSearchCV(\n",
    "    SGDClassifier(loss=\"log_loss\", max_iter=100_000),\n",
    "    {\"tol\" : [1e-3, 1e-4, 1e-5]},\n",
    "    return_train_score=True, verbose=2, cv=2, n_jobs=-1)\n",
    "\n",
    "grid_search_sgd.fit(X_train, y_train);"
   ]
  },
  {
   "cell_type": "code",
   "execution_count": 25,
   "metadata": {
    "execution": {
     "iopub.execute_input": "2024-06-19T16:13:11.060040Z",
     "iopub.status.busy": "2024-06-19T16:13:11.059374Z",
     "iopub.status.idle": "2024-06-19T16:13:11.131951Z",
     "shell.execute_reply": "2024-06-19T16:13:11.128595Z",
     "shell.execute_reply.started": "2024-06-19T16:13:11.059882Z"
    },
    "tags": []
   },
   "outputs": [
    {
     "data": {
      "text/html": [
       "<div>\n",
       "<style scoped>\n",
       "    .dataframe tbody tr th:only-of-type {\n",
       "        vertical-align: middle;\n",
       "    }\n",
       "\n",
       "    .dataframe tbody tr th {\n",
       "        vertical-align: top;\n",
       "    }\n",
       "\n",
       "    .dataframe thead th {\n",
       "        text-align: right;\n",
       "    }\n",
       "</style>\n",
       "<table border=\"1\" class=\"dataframe\">\n",
       "  <thead>\n",
       "    <tr style=\"text-align: right;\">\n",
       "      <th></th>\n",
       "      <th>mean_fit_time</th>\n",
       "      <th>std_fit_time</th>\n",
       "      <th>mean_score_time</th>\n",
       "      <th>std_score_time</th>\n",
       "      <th>param_tol</th>\n",
       "      <th>params</th>\n",
       "      <th>split0_test_score</th>\n",
       "      <th>split1_test_score</th>\n",
       "      <th>mean_test_score</th>\n",
       "      <th>std_test_score</th>\n",
       "      <th>rank_test_score</th>\n",
       "      <th>split0_train_score</th>\n",
       "      <th>split1_train_score</th>\n",
       "      <th>mean_train_score</th>\n",
       "      <th>std_train_score</th>\n",
       "    </tr>\n",
       "  </thead>\n",
       "  <tbody>\n",
       "    <tr>\n",
       "      <th>0</th>\n",
       "      <td>10.120389</td>\n",
       "      <td>0.571758</td>\n",
       "      <td>6.163771</td>\n",
       "      <td>0.018427</td>\n",
       "      <td>0.001</td>\n",
       "      <td>{'tol': 0.001}</td>\n",
       "      <td>0.764958</td>\n",
       "      <td>0.765627</td>\n",
       "      <td>0.765292</td>\n",
       "      <td>0.000334</td>\n",
       "      <td>3</td>\n",
       "      <td>0.771648</td>\n",
       "      <td>0.772955</td>\n",
       "      <td>0.772302</td>\n",
       "      <td>0.000653</td>\n",
       "    </tr>\n",
       "    <tr>\n",
       "      <th>1</th>\n",
       "      <td>16.190669</td>\n",
       "      <td>0.636387</td>\n",
       "      <td>7.436611</td>\n",
       "      <td>0.012156</td>\n",
       "      <td>0.0001</td>\n",
       "      <td>{'tol': 0.0001}</td>\n",
       "      <td>0.765375</td>\n",
       "      <td>0.765512</td>\n",
       "      <td>0.765443</td>\n",
       "      <td>0.000068</td>\n",
       "      <td>2</td>\n",
       "      <td>0.772363</td>\n",
       "      <td>0.772995</td>\n",
       "      <td>0.772679</td>\n",
       "      <td>0.000316</td>\n",
       "    </tr>\n",
       "    <tr>\n",
       "      <th>2</th>\n",
       "      <td>30.598734</td>\n",
       "      <td>1.042168</td>\n",
       "      <td>2.492567</td>\n",
       "      <td>0.242175</td>\n",
       "      <td>0.00001</td>\n",
       "      <td>{'tol': 1e-05}</td>\n",
       "      <td>0.765488</td>\n",
       "      <td>0.765627</td>\n",
       "      <td>0.765558</td>\n",
       "      <td>0.000069</td>\n",
       "      <td>1</td>\n",
       "      <td>0.772347</td>\n",
       "      <td>0.773215</td>\n",
       "      <td>0.772781</td>\n",
       "      <td>0.000434</td>\n",
       "    </tr>\n",
       "  </tbody>\n",
       "</table>\n",
       "</div>"
      ],
      "text/plain": [
       "   mean_fit_time  std_fit_time  mean_score_time  std_score_time param_tol  \\\n",
       "0      10.120389      0.571758         6.163771        0.018427     0.001   \n",
       "1      16.190669      0.636387         7.436611        0.012156    0.0001   \n",
       "2      30.598734      1.042168         2.492567        0.242175   0.00001   \n",
       "\n",
       "            params  split0_test_score  split1_test_score  mean_test_score  \\\n",
       "0   {'tol': 0.001}           0.764958           0.765627         0.765292   \n",
       "1  {'tol': 0.0001}           0.765375           0.765512         0.765443   \n",
       "2   {'tol': 1e-05}           0.765488           0.765627         0.765558   \n",
       "\n",
       "   std_test_score  rank_test_score  split0_train_score  split1_train_score  \\\n",
       "0        0.000334                3            0.771648            0.772955   \n",
       "1        0.000068                2            0.772363            0.772995   \n",
       "2        0.000069                1            0.772347            0.773215   \n",
       "\n",
       "   mean_train_score  std_train_score  \n",
       "0          0.772302         0.000653  \n",
       "1          0.772679         0.000316  \n",
       "2          0.772781         0.000434  "
      ]
     },
     "execution_count": 25,
     "metadata": {},
     "output_type": "execute_result"
    }
   ],
   "source": [
    "results_sgd = pd.DataFrame(grid_search_sgd.cv_results_)\n",
    "results_sgd"
   ]
  },
  {
   "cell_type": "code",
   "execution_count": 26,
   "metadata": {
    "execution": {
     "iopub.execute_input": "2024-06-19T16:13:11.135440Z",
     "iopub.status.busy": "2024-06-19T16:13:11.135043Z",
     "iopub.status.idle": "2024-06-19T16:13:11.791568Z",
     "shell.execute_reply": "2024-06-19T16:13:11.788167Z",
     "shell.execute_reply.started": "2024-06-19T16:13:11.135410Z"
    },
    "tags": []
   },
   "outputs": [
    {
     "data": {
      "image/png": "[encoded data removed]",
      "text/plain": [
       "<Figure size 640x480 with 1 Axes>"
      ]
     },
     "metadata": {},
     "output_type": "display_data"
    }
   ],
   "source": [
    "plt.plot(results_lr[\"mean_fit_time\"], results_lr[\"mean_train_score\"], label=\"lr train\")\n",
    "plt.plot(results_lr[\"mean_fit_time\"], results_lr[\"mean_test_score\"], label=\"lr cv\")\n",
    "plt.plot(results_sgd[\"mean_fit_time\"], results_sgd[\"mean_train_score\"], label=\"sgd train\")\n",
    "plt.plot(results_sgd[\"mean_fit_time\"], results_sgd[\"mean_test_score\"], label=\"sgd cv\")\n",
    "plt.xlabel(\"fit time(s)\");\n",
    "plt.ylabel(\"accuracy score\");\n",
    "plt.legend();"
   ]
  },
  {
   "cell_type": "markdown",
   "metadata": {},
   "source": [
    "<br><br>"
   ]
  },
  {
   "cell_type": "markdown",
   "metadata": {},
   "source": [
    "TL;DR if you don't want to wait that long, `SGDClassifier` will probably do better on a large dataset."
   ]
  }
 ],
 "metadata": {
  "kernelspec": {
   "display_name": "Python [conda env:cpsc330]",
   "language": "python",
   "name": "conda-env-cpsc330-py"
  },
  "language_info": {
   "codemirror_mode": {
    "name": "ipython",
    "version": 3
   },
   "file_extension": ".py",
   "mimetype": "text/x-python",
   "name": "python",
   "nbconvert_exporter": "python",
   "pygments_lexer": "ipython3",
   "version": "3.10.11"
  }
 },
 "nbformat": 4,
 "nbformat_minor": 4
}
